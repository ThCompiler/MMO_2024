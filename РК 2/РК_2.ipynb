{
  "cells": [
    {
      "cell_type": "markdown",
      "source": [
        "<h1 align=\"center\">\n",
        "<b>Московский государственный технический университет им. Н.Э. Баумана</b>\n",
        "</h1>\n",
        "\n",
        "<h1 align=\"center\"> Факультет «Информатика и системы управления» </h1>\n",
        "<h1 align=\"center\"> Кафедра ИУ5 «Системы обработки информации и управления </h1>\n",
        "\n",
        "<h1 align=\"center\">Рубежный контроль 2</h1>\n",
        "<h1 align=\"center\">Вариант №2</h1>\n",
        "<h4 align=\"right\">Выполнил:</h4>\n",
        "<h4 align=\"right\">студент группы ИУ5-25М</h4>\n",
        "<h4 align=\"right\">Ветошкин Артём</h4>\n"
      ],
      "metadata": {
        "id": "Vll5Ninwnsdg"
      },
      "id": "Vll5Ninwnsdg"
    },
    {
      "cell_type": "markdown",
      "source": [
        "Необходимо решить задачу классификации текстов на основе любого выбранного Вами датасета (кроме примера, который рассматривался в лекции). Классификация может быть бинарной или многоклассовой. Целевой признак из выбранного Вами датасета может иметь любой физический смысл, примером является задача анализа тональности текста.\n",
        "\n",
        "Необходимо сформировать два варианта векторизации признаков - на основе CountVectorizer и на основе TfidfVectorizer."
      ],
      "metadata": {
        "id": "yczywRy8nvXa"
      },
      "id": "yczywRy8nvXa"
    },
    {
      "cell_type": "markdown",
      "source": [
        "Для каждого метода необходимо оценить качество классификации. Сделайте вывод о том, какой вариант векторизации признаков в паре с каким классификатором показал лучшее качество."
      ],
      "metadata": {
        "id": "3cw9_kjLoFU6"
      },
      "id": "3cw9_kjLoFU6"
    },
    {
      "cell_type": "code",
      "execution_count": 1,
      "id": "0bee6db2",
      "metadata": {
        "id": "0bee6db2"
      },
      "outputs": [],
      "source": [
        "from sklearn.feature_extraction.text import CountVectorizer, TfidfVectorizer\n",
        "from sklearn.model_selection import train_test_split\n",
        "from sklearn.svm import SVC\n",
        "from sklearn.linear_model import LogisticRegression\n",
        "from sklearn.metrics import accuracy_score\n",
        "import pandas as pd\n",
        "import time"
      ]
    },
    {
      "cell_type": "code",
      "execution_count": 3,
      "id": "3ab46f13",
      "metadata": {
        "id": "3ab46f13"
      },
      "outputs": [],
      "source": [
        "# Загрузка данных\n",
        "df = pd.read_csv('train_40k.csv')"
      ]
    },
    {
      "cell_type": "code",
      "execution_count": 4,
      "id": "b985914e",
      "metadata": {
        "id": "b985914e",
        "outputId": "4f01d44d-88ba-4f1c-e75e-218014ccdd5d",
        "colab": {
          "base_uri": "https://localhost:8080/",
          "height": 484
        }
      },
      "outputs": [
        {
          "output_type": "execute_result",
          "data": {
            "text/plain": [
              "    productId                                Title          userId  \\\n",
              "0  B000E46LYG  Golden Valley Natural Buffalo Jerky  A3MQDNGHDJU4MK   \n",
              "1  B000GRA6N8                         Westing Game         unknown   \n",
              "2  B000GRA6N8                         Westing Game         unknown   \n",
              "3  B000GRA6N8                         Westing Game         unknown   \n",
              "4  B00000DMDQ    I SPY A is For Jigsaw Puzzle 63pc         unknown   \n",
              "5  B00000DMER                   ThinkFun Rush Hour         unknown   \n",
              "6  B00004RYGX                  Beetle Juice (1988)         unknown   \n",
              "7  B00004CI84            Beetle Juice [VHS] (1988)         unknown   \n",
              "8  B0007URYFM                           Boundaries         unknown   \n",
              "9  B00000J0NT       Crayola 120ct Original Crayons         unknown   \n",
              "\n",
              "  Helpfulness  Score       Time  \\\n",
              "0         0/0    3.0         -1   \n",
              "1         0/0    5.0  860630400   \n",
              "2         0/0    5.0  883008000   \n",
              "3         0/0    5.0  897696000   \n",
              "4         2/4    5.0  911865600   \n",
              "5         2/2    5.0  912816000   \n",
              "6         1/1    4.0  918000000   \n",
              "7         1/6    3.0  928108800   \n",
              "8         2/2    5.0  931046400   \n",
              "9         9/9    5.0  931219200   \n",
              "\n",
              "                                                Text                  Cat1  \\\n",
              "0  The description and photo on this product need...  grocery gourmet food   \n",
              "1  This was a great book!!!! It is well thought t...            toys games   \n",
              "2  I am a first year teacher, teaching 5th grade....            toys games   \n",
              "3  I got the book at my bookfair at school lookin...            toys games   \n",
              "4  Hi! I'm Martine Redman and I created this puzz...            toys games   \n",
              "5  My eight year old loves this game, whenever he...            toys games   \n",
              "6  The real joy of this movie doesn't lie in its ...  grocery gourmet food   \n",
              "7  Okay, Tim Burton is genuine. He haunts you wit...  grocery gourmet food   \n",
              "8  Boundaries, along with counseling, has given m...                beauty   \n",
              "9  120 colors? I say 120 sticks of fun! And a fre...            toys games   \n",
              "\n",
              "           Cat2                       Cat3  \n",
              "0  meat poultry                      jerky  \n",
              "1         games                    unknown  \n",
              "2         games                    unknown  \n",
              "3         games                    unknown  \n",
              "4       puzzles             jigsaw puzzles  \n",
              "5         games                board games  \n",
              "6     beverages                     juices  \n",
              "7     beverages                     juices  \n",
              "8        makeup                      nails  \n",
              "9   arts crafts  drawing painting supplies  "
            ],
            "text/html": [
              "\n",
              "  <div id=\"df-ea69703f-5381-4c98-8f3b-ce2ec4106f88\" class=\"colab-df-container\">\n",
              "    <div>\n",
              "<style scoped>\n",
              "    .dataframe tbody tr th:only-of-type {\n",
              "        vertical-align: middle;\n",
              "    }\n",
              "\n",
              "    .dataframe tbody tr th {\n",
              "        vertical-align: top;\n",
              "    }\n",
              "\n",
              "    .dataframe thead th {\n",
              "        text-align: right;\n",
              "    }\n",
              "</style>\n",
              "<table border=\"1\" class=\"dataframe\">\n",
              "  <thead>\n",
              "    <tr style=\"text-align: right;\">\n",
              "      <th></th>\n",
              "      <th>productId</th>\n",
              "      <th>Title</th>\n",
              "      <th>userId</th>\n",
              "      <th>Helpfulness</th>\n",
              "      <th>Score</th>\n",
              "      <th>Time</th>\n",
              "      <th>Text</th>\n",
              "      <th>Cat1</th>\n",
              "      <th>Cat2</th>\n",
              "      <th>Cat3</th>\n",
              "    </tr>\n",
              "  </thead>\n",
              "  <tbody>\n",
              "    <tr>\n",
              "      <th>0</th>\n",
              "      <td>B000E46LYG</td>\n",
              "      <td>Golden Valley Natural Buffalo Jerky</td>\n",
              "      <td>A3MQDNGHDJU4MK</td>\n",
              "      <td>0/0</td>\n",
              "      <td>3.0</td>\n",
              "      <td>-1</td>\n",
              "      <td>The description and photo on this product need...</td>\n",
              "      <td>grocery gourmet food</td>\n",
              "      <td>meat poultry</td>\n",
              "      <td>jerky</td>\n",
              "    </tr>\n",
              "    <tr>\n",
              "      <th>1</th>\n",
              "      <td>B000GRA6N8</td>\n",
              "      <td>Westing Game</td>\n",
              "      <td>unknown</td>\n",
              "      <td>0/0</td>\n",
              "      <td>5.0</td>\n",
              "      <td>860630400</td>\n",
              "      <td>This was a great book!!!! It is well thought t...</td>\n",
              "      <td>toys games</td>\n",
              "      <td>games</td>\n",
              "      <td>unknown</td>\n",
              "    </tr>\n",
              "    <tr>\n",
              "      <th>2</th>\n",
              "      <td>B000GRA6N8</td>\n",
              "      <td>Westing Game</td>\n",
              "      <td>unknown</td>\n",
              "      <td>0/0</td>\n",
              "      <td>5.0</td>\n",
              "      <td>883008000</td>\n",
              "      <td>I am a first year teacher, teaching 5th grade....</td>\n",
              "      <td>toys games</td>\n",
              "      <td>games</td>\n",
              "      <td>unknown</td>\n",
              "    </tr>\n",
              "    <tr>\n",
              "      <th>3</th>\n",
              "      <td>B000GRA6N8</td>\n",
              "      <td>Westing Game</td>\n",
              "      <td>unknown</td>\n",
              "      <td>0/0</td>\n",
              "      <td>5.0</td>\n",
              "      <td>897696000</td>\n",
              "      <td>I got the book at my bookfair at school lookin...</td>\n",
              "      <td>toys games</td>\n",
              "      <td>games</td>\n",
              "      <td>unknown</td>\n",
              "    </tr>\n",
              "    <tr>\n",
              "      <th>4</th>\n",
              "      <td>B00000DMDQ</td>\n",
              "      <td>I SPY A is For Jigsaw Puzzle 63pc</td>\n",
              "      <td>unknown</td>\n",
              "      <td>2/4</td>\n",
              "      <td>5.0</td>\n",
              "      <td>911865600</td>\n",
              "      <td>Hi! I'm Martine Redman and I created this puzz...</td>\n",
              "      <td>toys games</td>\n",
              "      <td>puzzles</td>\n",
              "      <td>jigsaw puzzles</td>\n",
              "    </tr>\n",
              "    <tr>\n",
              "      <th>5</th>\n",
              "      <td>B00000DMER</td>\n",
              "      <td>ThinkFun Rush Hour</td>\n",
              "      <td>unknown</td>\n",
              "      <td>2/2</td>\n",
              "      <td>5.0</td>\n",
              "      <td>912816000</td>\n",
              "      <td>My eight year old loves this game, whenever he...</td>\n",
              "      <td>toys games</td>\n",
              "      <td>games</td>\n",
              "      <td>board games</td>\n",
              "    </tr>\n",
              "    <tr>\n",
              "      <th>6</th>\n",
              "      <td>B00004RYGX</td>\n",
              "      <td>Beetle Juice (1988)</td>\n",
              "      <td>unknown</td>\n",
              "      <td>1/1</td>\n",
              "      <td>4.0</td>\n",
              "      <td>918000000</td>\n",
              "      <td>The real joy of this movie doesn't lie in its ...</td>\n",
              "      <td>grocery gourmet food</td>\n",
              "      <td>beverages</td>\n",
              "      <td>juices</td>\n",
              "    </tr>\n",
              "    <tr>\n",
              "      <th>7</th>\n",
              "      <td>B00004CI84</td>\n",
              "      <td>Beetle Juice [VHS] (1988)</td>\n",
              "      <td>unknown</td>\n",
              "      <td>1/6</td>\n",
              "      <td>3.0</td>\n",
              "      <td>928108800</td>\n",
              "      <td>Okay, Tim Burton is genuine. He haunts you wit...</td>\n",
              "      <td>grocery gourmet food</td>\n",
              "      <td>beverages</td>\n",
              "      <td>juices</td>\n",
              "    </tr>\n",
              "    <tr>\n",
              "      <th>8</th>\n",
              "      <td>B0007URYFM</td>\n",
              "      <td>Boundaries</td>\n",
              "      <td>unknown</td>\n",
              "      <td>2/2</td>\n",
              "      <td>5.0</td>\n",
              "      <td>931046400</td>\n",
              "      <td>Boundaries, along with counseling, has given m...</td>\n",
              "      <td>beauty</td>\n",
              "      <td>makeup</td>\n",
              "      <td>nails</td>\n",
              "    </tr>\n",
              "    <tr>\n",
              "      <th>9</th>\n",
              "      <td>B00000J0NT</td>\n",
              "      <td>Crayola 120ct Original Crayons</td>\n",
              "      <td>unknown</td>\n",
              "      <td>9/9</td>\n",
              "      <td>5.0</td>\n",
              "      <td>931219200</td>\n",
              "      <td>120 colors? I say 120 sticks of fun! And a fre...</td>\n",
              "      <td>toys games</td>\n",
              "      <td>arts crafts</td>\n",
              "      <td>drawing painting supplies</td>\n",
              "    </tr>\n",
              "  </tbody>\n",
              "</table>\n",
              "</div>\n",
              "    <div class=\"colab-df-buttons\">\n",
              "\n",
              "  <div class=\"colab-df-container\">\n",
              "    <button class=\"colab-df-convert\" onclick=\"convertToInteractive('df-ea69703f-5381-4c98-8f3b-ce2ec4106f88')\"\n",
              "            title=\"Convert this dataframe to an interactive table.\"\n",
              "            style=\"display:none;\">\n",
              "\n",
              "  <svg xmlns=\"http://www.w3.org/2000/svg\" height=\"24px\" viewBox=\"0 -960 960 960\">\n",
              "    <path d=\"M120-120v-720h720v720H120Zm60-500h600v-160H180v160Zm220 220h160v-160H400v160Zm0 220h160v-160H400v160ZM180-400h160v-160H180v160Zm440 0h160v-160H620v160ZM180-180h160v-160H180v160Zm440 0h160v-160H620v160Z\"/>\n",
              "  </svg>\n",
              "    </button>\n",
              "\n",
              "  <style>\n",
              "    .colab-df-container {\n",
              "      display:flex;\n",
              "      gap: 12px;\n",
              "    }\n",
              "\n",
              "    .colab-df-convert {\n",
              "      background-color: #E8F0FE;\n",
              "      border: none;\n",
              "      border-radius: 50%;\n",
              "      cursor: pointer;\n",
              "      display: none;\n",
              "      fill: #1967D2;\n",
              "      height: 32px;\n",
              "      padding: 0 0 0 0;\n",
              "      width: 32px;\n",
              "    }\n",
              "\n",
              "    .colab-df-convert:hover {\n",
              "      background-color: #E2EBFA;\n",
              "      box-shadow: 0px 1px 2px rgba(60, 64, 67, 0.3), 0px 1px 3px 1px rgba(60, 64, 67, 0.15);\n",
              "      fill: #174EA6;\n",
              "    }\n",
              "\n",
              "    .colab-df-buttons div {\n",
              "      margin-bottom: 4px;\n",
              "    }\n",
              "\n",
              "    [theme=dark] .colab-df-convert {\n",
              "      background-color: #3B4455;\n",
              "      fill: #D2E3FC;\n",
              "    }\n",
              "\n",
              "    [theme=dark] .colab-df-convert:hover {\n",
              "      background-color: #434B5C;\n",
              "      box-shadow: 0px 1px 3px 1px rgba(0, 0, 0, 0.15);\n",
              "      filter: drop-shadow(0px 1px 2px rgba(0, 0, 0, 0.3));\n",
              "      fill: #FFFFFF;\n",
              "    }\n",
              "  </style>\n",
              "\n",
              "    <script>\n",
              "      const buttonEl =\n",
              "        document.querySelector('#df-ea69703f-5381-4c98-8f3b-ce2ec4106f88 button.colab-df-convert');\n",
              "      buttonEl.style.display =\n",
              "        google.colab.kernel.accessAllowed ? 'block' : 'none';\n",
              "\n",
              "      async function convertToInteractive(key) {\n",
              "        const element = document.querySelector('#df-ea69703f-5381-4c98-8f3b-ce2ec4106f88');\n",
              "        const dataTable =\n",
              "          await google.colab.kernel.invokeFunction('convertToInteractive',\n",
              "                                                    [key], {});\n",
              "        if (!dataTable) return;\n",
              "\n",
              "        const docLinkHtml = 'Like what you see? Visit the ' +\n",
              "          '<a target=\"_blank\" href=https://colab.research.google.com/notebooks/data_table.ipynb>data table notebook</a>'\n",
              "          + ' to learn more about interactive tables.';\n",
              "        element.innerHTML = '';\n",
              "        dataTable['output_type'] = 'display_data';\n",
              "        await google.colab.output.renderOutput(dataTable, element);\n",
              "        const docLink = document.createElement('div');\n",
              "        docLink.innerHTML = docLinkHtml;\n",
              "        element.appendChild(docLink);\n",
              "      }\n",
              "    </script>\n",
              "  </div>\n",
              "\n",
              "\n",
              "<div id=\"df-0229f433-8c42-4310-9abb-30c8c180d521\">\n",
              "  <button class=\"colab-df-quickchart\" onclick=\"quickchart('df-0229f433-8c42-4310-9abb-30c8c180d521')\"\n",
              "            title=\"Suggest charts\"\n",
              "            style=\"display:none;\">\n",
              "\n",
              "<svg xmlns=\"http://www.w3.org/2000/svg\" height=\"24px\"viewBox=\"0 0 24 24\"\n",
              "     width=\"24px\">\n",
              "    <g>\n",
              "        <path d=\"M19 3H5c-1.1 0-2 .9-2 2v14c0 1.1.9 2 2 2h14c1.1 0 2-.9 2-2V5c0-1.1-.9-2-2-2zM9 17H7v-7h2v7zm4 0h-2V7h2v10zm4 0h-2v-4h2v4z\"/>\n",
              "    </g>\n",
              "</svg>\n",
              "  </button>\n",
              "\n",
              "<style>\n",
              "  .colab-df-quickchart {\n",
              "      --bg-color: #E8F0FE;\n",
              "      --fill-color: #1967D2;\n",
              "      --hover-bg-color: #E2EBFA;\n",
              "      --hover-fill-color: #174EA6;\n",
              "      --disabled-fill-color: #AAA;\n",
              "      --disabled-bg-color: #DDD;\n",
              "  }\n",
              "\n",
              "  [theme=dark] .colab-df-quickchart {\n",
              "      --bg-color: #3B4455;\n",
              "      --fill-color: #D2E3FC;\n",
              "      --hover-bg-color: #434B5C;\n",
              "      --hover-fill-color: #FFFFFF;\n",
              "      --disabled-bg-color: #3B4455;\n",
              "      --disabled-fill-color: #666;\n",
              "  }\n",
              "\n",
              "  .colab-df-quickchart {\n",
              "    background-color: var(--bg-color);\n",
              "    border: none;\n",
              "    border-radius: 50%;\n",
              "    cursor: pointer;\n",
              "    display: none;\n",
              "    fill: var(--fill-color);\n",
              "    height: 32px;\n",
              "    padding: 0;\n",
              "    width: 32px;\n",
              "  }\n",
              "\n",
              "  .colab-df-quickchart:hover {\n",
              "    background-color: var(--hover-bg-color);\n",
              "    box-shadow: 0 1px 2px rgba(60, 64, 67, 0.3), 0 1px 3px 1px rgba(60, 64, 67, 0.15);\n",
              "    fill: var(--button-hover-fill-color);\n",
              "  }\n",
              "\n",
              "  .colab-df-quickchart-complete:disabled,\n",
              "  .colab-df-quickchart-complete:disabled:hover {\n",
              "    background-color: var(--disabled-bg-color);\n",
              "    fill: var(--disabled-fill-color);\n",
              "    box-shadow: none;\n",
              "  }\n",
              "\n",
              "  .colab-df-spinner {\n",
              "    border: 2px solid var(--fill-color);\n",
              "    border-color: transparent;\n",
              "    border-bottom-color: var(--fill-color);\n",
              "    animation:\n",
              "      spin 1s steps(1) infinite;\n",
              "  }\n",
              "\n",
              "  @keyframes spin {\n",
              "    0% {\n",
              "      border-color: transparent;\n",
              "      border-bottom-color: var(--fill-color);\n",
              "      border-left-color: var(--fill-color);\n",
              "    }\n",
              "    20% {\n",
              "      border-color: transparent;\n",
              "      border-left-color: var(--fill-color);\n",
              "      border-top-color: var(--fill-color);\n",
              "    }\n",
              "    30% {\n",
              "      border-color: transparent;\n",
              "      border-left-color: var(--fill-color);\n",
              "      border-top-color: var(--fill-color);\n",
              "      border-right-color: var(--fill-color);\n",
              "    }\n",
              "    40% {\n",
              "      border-color: transparent;\n",
              "      border-right-color: var(--fill-color);\n",
              "      border-top-color: var(--fill-color);\n",
              "    }\n",
              "    60% {\n",
              "      border-color: transparent;\n",
              "      border-right-color: var(--fill-color);\n",
              "    }\n",
              "    80% {\n",
              "      border-color: transparent;\n",
              "      border-right-color: var(--fill-color);\n",
              "      border-bottom-color: var(--fill-color);\n",
              "    }\n",
              "    90% {\n",
              "      border-color: transparent;\n",
              "      border-bottom-color: var(--fill-color);\n",
              "    }\n",
              "  }\n",
              "</style>\n",
              "\n",
              "  <script>\n",
              "    async function quickchart(key) {\n",
              "      const quickchartButtonEl =\n",
              "        document.querySelector('#' + key + ' button');\n",
              "      quickchartButtonEl.disabled = true;  // To prevent multiple clicks.\n",
              "      quickchartButtonEl.classList.add('colab-df-spinner');\n",
              "      try {\n",
              "        const charts = await google.colab.kernel.invokeFunction(\n",
              "            'suggestCharts', [key], {});\n",
              "      } catch (error) {\n",
              "        console.error('Error during call to suggestCharts:', error);\n",
              "      }\n",
              "      quickchartButtonEl.classList.remove('colab-df-spinner');\n",
              "      quickchartButtonEl.classList.add('colab-df-quickchart-complete');\n",
              "    }\n",
              "    (() => {\n",
              "      let quickchartButtonEl =\n",
              "        document.querySelector('#df-0229f433-8c42-4310-9abb-30c8c180d521 button');\n",
              "      quickchartButtonEl.style.display =\n",
              "        google.colab.kernel.accessAllowed ? 'block' : 'none';\n",
              "    })();\n",
              "  </script>\n",
              "</div>\n",
              "    </div>\n",
              "  </div>\n"
            ],
            "application/vnd.google.colaboratory.intrinsic+json": {
              "type": "dataframe",
              "variable_name": "df",
              "summary": "{\n  \"name\": \"df\",\n  \"rows\": 40000,\n  \"fields\": [\n    {\n      \"column\": \"productId\",\n      \"properties\": {\n        \"dtype\": \"string\",\n        \"num_unique_values\": 20851,\n        \"samples\": [\n          \"B000MM2RZM\",\n          \"B0002JEH62\",\n          \"B000I4325S\"\n        ],\n        \"semantic_type\": \"\",\n        \"description\": \"\"\n      }\n    },\n    {\n      \"column\": \"Title\",\n      \"properties\": {\n        \"dtype\": \"category\",\n        \"num_unique_values\": 19597,\n        \"samples\": [\n          \"Match Mates Littmann Classic II S.E. Combination Kit Stethoscope\",\n          \"MagicCoat Love Glove\",\n          \"Clif Shot Energy Gel 1.1 Ounce Packets (Pack of 24)\"\n        ],\n        \"semantic_type\": \"\",\n        \"description\": \"\"\n      }\n    },\n    {\n      \"column\": \"userId\",\n      \"properties\": {\n        \"dtype\": \"string\",\n        \"num_unique_values\": 36290,\n        \"samples\": [\n          \"A3GNJTDFAPKBIG\",\n          \"A23MJOWTS7L1U3\",\n          \"ARVQ4KDMT0FS9\"\n        ],\n        \"semantic_type\": \"\",\n        \"description\": \"\"\n      }\n    },\n    {\n      \"column\": \"Helpfulness\",\n      \"properties\": {\n        \"dtype\": \"category\",\n        \"num_unique_values\": 822,\n        \"samples\": [\n          \"14/27\",\n          \"79/85\",\n          \"22/24\"\n        ],\n        \"semantic_type\": \"\",\n        \"description\": \"\"\n      }\n    },\n    {\n      \"column\": \"Score\",\n      \"properties\": {\n        \"dtype\": \"number\",\n        \"std\": 1.357091195088891,\n        \"min\": 1.0,\n        \"max\": 5.0,\n        \"num_unique_values\": 5,\n        \"samples\": [\n          5.0,\n          2.0,\n          4.0\n        ],\n        \"semantic_type\": \"\",\n        \"description\": \"\"\n      }\n    },\n    {\n      \"column\": \"Time\",\n      \"properties\": {\n        \"dtype\": \"number\",\n        \"std\": 85550396,\n        \"min\": -1,\n        \"max\": 1344211200,\n        \"num_unique_values\": 4130,\n        \"samples\": [\n          1148083200,\n          1090627200,\n          1153353600\n        ],\n        \"semantic_type\": \"\",\n        \"description\": \"\"\n      }\n    },\n    {\n      \"column\": \"Text\",\n      \"properties\": {\n        \"dtype\": \"string\",\n        \"num_unique_values\": 39489,\n        \"samples\": [\n          \"I have 4 dogs and now they are all wearing this collar . I take my dogs swimming at the beach a lot of times,now I don't have to worry about changing their collar or having lots of pet tags for each collar. This one simply has everything,the tag attached,easy to clean,comfortable for the dogs so they can wear it 24/7.Only thing I have to do now is attach a leash and we're ready to go anywhere. Not only they are great and safe but they are very pretty.I have 2 solid blue,1 solid pink and 1 translucent orange.Would recommend this to any pet owner!A+ product.\",\n          \"I purchased this pomeranian because it looked just like my pomeranian. It was even better than the picture. I absolutely love it because it is marked up just like my Chipper. So when (God Forbid) I lose my Chipper I will always have this adorable plush pamy pomeranian to hold dear to my heart.\",\n          \"Muy buena calidad de los materiales, mientras no se mojen con agua caliente ya que se empiezan a despintar... mi pecado fue no comprar mas bloques...\"\n        ],\n        \"semantic_type\": \"\",\n        \"description\": \"\"\n      }\n    },\n    {\n      \"column\": \"Cat1\",\n      \"properties\": {\n        \"dtype\": \"category\",\n        \"num_unique_values\": 6,\n        \"samples\": [\n          \"grocery gourmet food\",\n          \"toys games\",\n          \"pet supplies\"\n        ],\n        \"semantic_type\": \"\",\n        \"description\": \"\"\n      }\n    },\n    {\n      \"column\": \"Cat2\",\n      \"properties\": {\n        \"dtype\": \"category\",\n        \"num_unique_values\": 64,\n        \"samples\": [\n          \"cooking baking supplies\",\n          \"small animals\",\n          \"meat poultry\"\n        ],\n        \"semantic_type\": \"\",\n        \"description\": \"\"\n      }\n    },\n    {\n      \"column\": \"Cat3\",\n      \"properties\": {\n        \"dtype\": \"category\",\n        \"num_unique_values\": 464,\n        \"samples\": [\n          \"card games\",\n          \"d puzzles\",\n          \"toy balls\"\n        ],\n        \"semantic_type\": \"\",\n        \"description\": \"\"\n      }\n    }\n  ]\n}"
            }
          },
          "metadata": {},
          "execution_count": 4
        }
      ],
      "source": [
        "df.head(10)"
      ]
    },
    {
      "cell_type": "code",
      "execution_count": 5,
      "id": "aba76fbd",
      "metadata": {
        "id": "aba76fbd",
        "outputId": "ab869966-7542-4c82-8606-1af39d3b2108",
        "colab": {
          "base_uri": "https://localhost:8080/",
          "height": 0
        }
      },
      "outputs": [
        {
          "output_type": "stream",
          "name": "stdout",
          "text": [
            "<class 'pandas.core.frame.DataFrame'>\n",
            "RangeIndex: 40000 entries, 0 to 39999\n",
            "Data columns (total 10 columns):\n",
            " #   Column       Non-Null Count  Dtype  \n",
            "---  ------       --------------  -----  \n",
            " 0   productId    40000 non-null  object \n",
            " 1   Title        39984 non-null  object \n",
            " 2   userId       40000 non-null  object \n",
            " 3   Helpfulness  40000 non-null  object \n",
            " 4   Score        40000 non-null  float64\n",
            " 5   Time         40000 non-null  int64  \n",
            " 6   Text         40000 non-null  object \n",
            " 7   Cat1         40000 non-null  object \n",
            " 8   Cat2         40000 non-null  object \n",
            " 9   Cat3         40000 non-null  object \n",
            "dtypes: float64(1), int64(1), object(8)\n",
            "memory usage: 3.1+ MB\n"
          ]
        }
      ],
      "source": [
        "df.info()"
      ]
    },
    {
      "cell_type": "code",
      "execution_count": 6,
      "id": "b97be1ec",
      "metadata": {
        "id": "b97be1ec",
        "outputId": "b112f977-e588-46f4-ca5c-cd9a487ff01a",
        "colab": {
          "base_uri": "https://localhost:8080/",
          "height": 0
        }
      },
      "outputs": [
        {
          "output_type": "execute_result",
          "data": {
            "text/plain": [
              "productId       0\n",
              "Title          16\n",
              "userId          0\n",
              "Helpfulness     0\n",
              "Score           0\n",
              "Time            0\n",
              "Text            0\n",
              "Cat1            0\n",
              "Cat2            0\n",
              "Cat3            0\n",
              "dtype: int64"
            ]
          },
          "metadata": {},
          "execution_count": 6
        }
      ],
      "source": [
        "# проверим пропуски в данных и устраним их\n",
        "na_mask = df.isna()\n",
        "na_counts = na_mask.sum()\n",
        "na_counts"
      ]
    },
    {
      "cell_type": "code",
      "execution_count": 7,
      "id": "acba0e52",
      "metadata": {
        "id": "acba0e52",
        "outputId": "10e34b6b-18d6-4d2b-b4a2-52eda986ca95",
        "colab": {
          "base_uri": "https://localhost:8080/",
          "height": 0
        }
      },
      "outputs": [
        {
          "output_type": "execute_result",
          "data": {
            "text/plain": [
              "productId      0\n",
              "Title          0\n",
              "userId         0\n",
              "Helpfulness    0\n",
              "Score          0\n",
              "Time           0\n",
              "Text           0\n",
              "Cat1           0\n",
              "Cat2           0\n",
              "Cat3           0\n",
              "dtype: int64"
            ]
          },
          "metadata": {},
          "execution_count": 7
        }
      ],
      "source": [
        "df.dropna(inplace=True)\n",
        "na_mask = df.isna()\n",
        "na_counts = na_mask.sum()\n",
        "na_counts"
      ]
    },
    {
      "cell_type": "code",
      "execution_count": 9,
      "id": "106c5da9",
      "metadata": {
        "id": "106c5da9"
      },
      "outputs": [],
      "source": [
        "# Разделим набор данных на обучающую и тестувую выборки\n",
        "X, Y = df['Text'], df['Cat2']\n",
        "X_train, X_test, y_train, y_test = train_test_split(X, Y, test_size=0.2, random_state=42)\n",
        "\n",
        "time_arr = []"
      ]
    },
    {
      "cell_type": "code",
      "execution_count": 10,
      "id": "b4478280",
      "metadata": {
        "id": "b4478280"
      },
      "outputs": [],
      "source": [
        "# векторизация признаков с помощью CountVectorizer\n",
        "count_vect = CountVectorizer()\n",
        "X_train_counts = count_vect.fit_transform(X_train)\n",
        "X_test_counts = count_vect.transform(X_test)"
      ]
    },
    {
      "cell_type": "code",
      "execution_count": 11,
      "id": "77e4cb2d",
      "metadata": {
        "id": "77e4cb2d"
      },
      "outputs": [],
      "source": [
        "# векторизация признаков с помощью TfidfVectorizer\n",
        "tfidf_vect = TfidfVectorizer()\n",
        "X_train_tfidf = tfidf_vect.fit_transform(X_train)\n",
        "X_test_tfidf = tfidf_vect.transform(X_test)"
      ]
    },
    {
      "cell_type": "code",
      "execution_count": 12,
      "id": "9077dfaf",
      "metadata": {
        "id": "9077dfaf",
        "outputId": "e2b269a3-ff3b-4eb6-f88c-71745c347b3b",
        "colab": {
          "base_uri": "https://localhost:8080/",
          "height": 0
        }
      },
      "outputs": [
        {
          "output_type": "stream",
          "name": "stdout",
          "text": [
            "Точность (CountVectorizer + SVC): 0.4666750031261723\n",
            "Точность (CountVectorizer + LogisticRegression): 0.5997248968363136\n"
          ]
        }
      ],
      "source": [
        "# Произведем обучения вдух классификаторов (по варианту) для CountVectorizer\n",
        "\n",
        "# SVC\n",
        "gbc = SVC()\n",
        "start_time = time.time()\n",
        "gbc.fit(X_train_counts, y_train)\n",
        "train_time = time.time() - start_time\n",
        "time_arr.append(train_time)\n",
        "pred_gbc_counts = gbc.predict(X_test_counts)\n",
        "print(\"Точность (CountVectorizer + SVC):\", accuracy_score(y_test, pred_gbc_counts))\n",
        "\n",
        "# Logistic Regression\n",
        "lr = LogisticRegression(max_iter=1000)\n",
        "start_time = time.time()\n",
        "lr.fit(X_train_counts, y_train)\n",
        "train_time = time.time() - start_time\n",
        "time_arr.append(train_time)\n",
        "pred_lr_counts = lr.predict(X_test_counts)\n",
        "print(\"Точность (CountVectorizer + LogisticRegression):\", accuracy_score(y_test, pred_lr_counts))"
      ]
    },
    {
      "cell_type": "code",
      "execution_count": 13,
      "id": "6fa4ac88",
      "metadata": {
        "id": "6fa4ac88",
        "outputId": "58879dce-ff84-4aee-9352-c2c2363dd89e",
        "colab": {
          "base_uri": "https://localhost:8080/",
          "height": 0
        }
      },
      "outputs": [
        {
          "output_type": "stream",
          "name": "stdout",
          "text": [
            "Точность (TfidfVectorizer + LinearSVC): 0.6087282731024134\n",
            "Точность (TfidfVectorizer + LogisticRegression): 0.6222333375015631\n"
          ]
        }
      ],
      "source": [
        "# Произведем обучения вдух классификаторов (по варианту) для TfidfVectorizer\n",
        "\n",
        "# SVC\n",
        "gbc = SVC()\n",
        "start_time = time.time()\n",
        "gbc.fit(X_train_tfidf, y_train)\n",
        "train_time = time.time() - start_time\n",
        "time_arr.append(train_time)\n",
        "pred_gbc_tfidf = gbc.predict(X_test_tfidf)\n",
        "print(\"Точность (TfidfVectorizer + LinearSVC):\", accuracy_score(y_test, pred_gbc_tfidf))\n",
        "\n",
        "# Logistic Regression\n",
        "lr = LogisticRegression(max_iter=1000)\n",
        "start_time = time.time()\n",
        "lr.fit(X_train_tfidf, y_train)\n",
        "train_time = time.time() - start_time\n",
        "time_arr.append(train_time)\n",
        "pred_lr_tfidf = lr.predict(X_test_tfidf)\n",
        "print(\"Точность (TfidfVectorizer + LogisticRegression):\", accuracy_score(y_test, pred_lr_tfidf))"
      ]
    },
    {
      "cell_type": "code",
      "execution_count": 14,
      "id": "4a229509",
      "metadata": {
        "id": "4a229509",
        "outputId": "cdc258ee-59b2-411b-e2de-09c315c11b0b",
        "colab": {
          "base_uri": "https://localhost:8080/",
          "height": 0
        }
      },
      "outputs": [
        {
          "output_type": "stream",
          "name": "stdout",
          "text": [
            "+----------------------------------------+----------------------+------------------+\n",
            "| Связка                                 |   Точность валидации |   Время обучения |\n",
            "+========================================+======================+==================+\n",
            "| (TfidfVectorizer + LogisticRegression) |             0.622233 |         1299.28  |\n",
            "+----------------------------------------+----------------------+------------------+\n",
            "| (TfidfVectorizer + LinearSVC)          |             0.608728 |          159.232 |\n",
            "+----------------------------------------+----------------------+------------------+\n",
            "| (CountVectorizer + LogisticRegression) |             0.599725 |         1005.25  |\n",
            "+----------------------------------------+----------------------+------------------+\n",
            "| (CountVectorizer + LinearSVC)          |             0.466675 |          510.494 |\n",
            "+----------------------------------------+----------------------+------------------+\n"
          ]
        }
      ],
      "source": [
        "from tabulate import tabulate\n",
        "\n",
        "data = [\n",
        "    [\"(CountVectorizer + LogisticRegression)\", accuracy_score(y_test, pred_lr_counts), time_arr[0]],\n",
        "    [\"(CountVectorizer + LinearSVC)\", accuracy_score(y_test, pred_gbc_counts), time_arr[1]],\n",
        "    [\"(TfidfVectorizer + LogisticRegression)\", accuracy_score(y_test, pred_lr_tfidf), time_arr[2]],\n",
        "    [\"(TfidfVectorizer + LinearSVC)\", accuracy_score(y_test, pred_gbc_tfidf), time_arr[3]]\n",
        "]\n",
        "\n",
        "sorted_data = sorted(data, key=lambda x: x[1], reverse=True)\n",
        "\n",
        "# Вывод отсортированных данных в виде таблицы\n",
        "print(tabulate(sorted_data, ['Модели','Точность валидации', 'Время обучения'], tablefmt=\"grid\"))"
      ]
    },
    {
      "cell_type": "markdown",
      "source": [
        "Лучше всего показл себя TFIDF векторайзер в паре с логистической регрессиой"
      ],
      "metadata": {
        "id": "xSewe0TIoHBg"
      },
      "id": "xSewe0TIoHBg"
    }
  ],
  "metadata": {
    "kernelspec": {
      "display_name": "Python 3 (ipykernel)",
      "language": "python",
      "name": "python3"
    },
    "language_info": {
      "codemirror_mode": {
        "name": "ipython",
        "version": 3
      },
      "file_extension": ".py",
      "mimetype": "text/x-python",
      "name": "python",
      "nbconvert_exporter": "python",
      "pygments_lexer": "ipython3",
      "version": "3.10.9"
    },
    "colab": {
      "provenance": []
    }
  },
  "nbformat": 4,
  "nbformat_minor": 5
}